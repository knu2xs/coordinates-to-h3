{
 "cells": [
  {
   "cell_type": "code",
   "execution_count": 1,
   "metadata": {},
   "outputs": [],
   "source": [
    "import csv\n",
    "import logging\n",
    "from pathlib import Path\n",
    "from typing import Optional\n",
    "from warnings import warn\n",
    "\n",
    "import h3"
   ]
  },
  {
   "cell_type": "code",
   "execution_count": 2,
   "metadata": {},
   "outputs": [
    {
     "data": {
      "text/plain": [
       "WindowsPath('D:/projects/coordinates-to-h3/data/processed/poi_h3_08.csv')"
      ]
     },
     "execution_count": 2,
     "metadata": {},
     "output_type": "execute_result"
    }
   ],
   "source": [
    "dir_prj = Path.cwd().parent\n",
    "\n",
    "dir_data = dir_prj/'data'\n",
    "\n",
    "dir_raw = dir_data/'raw'\n",
    "dir_out = dir_data/'processed'\n",
    "\n",
    "log_level = 'DEBUG'\n",
    "h3_res = 8\n",
    "csv_raw = dir_raw / \"need_h3_level8_records.csv\"\n",
    "csv_out = dir_out / f\"poi_h3_{h3_res:02d}.csv\"\n",
    "\n",
    "# set up logger for notebook\n",
    "logger = logging.getLogger('coordinates-to-h3')\n",
    "logger.setLevel(level=log_level)\n",
    "\n",
    "# set the default logger to the same level so messages bubble up\n",
    "logging.basicConfig(level=log_level)\n",
    "\n",
    "assert(csv_raw.exists())\n",
    "csv_out"
   ]
  },
  {
   "cell_type": "code",
   "execution_count": 3,
   "metadata": {},
   "outputs": [],
   "source": [
    "def add_h3_field(\n",
    "    input_file: Path, \n",
    "    output_file: Path, \n",
    "    h3_resolution: int = 8,\n",
    "    longitude_field: str = 'longitude', \n",
    "    latitude_field: str = 'latitude',\n",
    "    output_h3_field_name: Optional[str] = None\n",
    "):\n",
    "    \"\"\"\n",
    "    Read a CSV file, calculate an H3 index from the coordinate columns and saves result to a new file.\n",
    "\n",
    "    Args:\n",
    "        input_file: path to the input CSV file\n",
    "        output_file: path to the output CSV file\n",
    "        h3_resolution: H3 resolution to use for calculating the H3 index\n",
    "        longitude_field: field in input CSV with longitude (X) coordinate values\n",
    "        latitude_field: field in input CSV with latitude (Y) coordinate values\n",
    "        output_h3_field_name: field to add to output CSV with H3 indices\n",
    "    \"\"\"\n",
    "    # make sure the resolution is, in fact, a numeric integer\n",
    "    if isinstance(h3_resolution, str):\n",
    "        if not h3_resolution.isdigit():\n",
    "            raise ValueError('h3_resolution must be an integer')\n",
    "        else:\n",
    "            h3_resolution = int(h3_resolution)\n",
    "\n",
    "    logger.debug(f'Using \"{longitude_field}\" for X coordinates and \"{latitude_field}\" for '\n",
    "                 f\"coordinates to calculate H3 indices at H3 level {h3_resolution}.\")\n",
    "\n",
    "    # if an output field name is not explicitly provided, create one\n",
    "    if output_h3_field_name is None:\n",
    "        output_h3_field_name = f\"h3_{h3_resolution:02d}\"\n",
    "\n",
    "    logger.debug(f'Writing H3 indices to new field named \"{output_h3_field_name}\"')\n",
    "    \n",
    "    # open the source CSV and use a reader to load values as dictionaries\n",
    "    with open(input_file, mode='r', newline='', encoding='utf-8') as infile:\n",
    "        reader = csv.DictReader(infile)\n",
    "\n",
    "        # create a list of output field names with the new H3 field appended to the end\n",
    "        fieldnames = reader.fieldnames + [output_h3_field_name]\n",
    "\n",
    "        # open the file to output to using a dictionary writer\n",
    "        with open(output_file, mode='w', newline='', encoding='utf-8') as outfile:\n",
    "            writer = csv.DictWriter(outfile, fieldnames=fieldnames)\n",
    "\n",
    "            # write the field names in the first row, the header\n",
    "            writer.writeheader()\n",
    "\n",
    "            # iterate rows in the reader\n",
    "            for idx, row in enumerate(reader):\n",
    "                \n",
    "                # retrive the coordinate values\n",
    "                lon_val = row.get(longitude_field)\n",
    "                lat_val = row.get(latitude_field)\n",
    "\n",
    "                # check to ensure both values are not none\n",
    "                if lon_val is None or lat_val is None:\n",
    "                    warn(f'Cannot get H3 index for row {idx:,} because two coordinates values were not retrieved.')\n",
    "                    h3_idx = None\n",
    "\n",
    "                else:\n",
    "                    h3_idx = h3.latlng_to_cell(float(lat_val), float(lon_val), h3_resolution)\n",
    "                \n",
    "                # set the H3 index in the row dictionary\n",
    "                row[output_h3_field_name] = h3_idx\n",
    "\n",
    "                # write the row to the output table\n",
    "                writer.writerow(row)\n",
    "\n",
    "    logger.info(f\"{idx+1:,} rows written to {output_file}\")\n",
    "\n",
    "    return output_file"
   ]
  },
  {
   "cell_type": "code",
   "execution_count": 4,
   "metadata": {},
   "outputs": [
    {
     "name": "stderr",
     "output_type": "stream",
     "text": [
      "DEBUG:coordinates-to-h3:Using \"longitude\" for X coordinates and \"latitude\" for coordinates to calculate H3 indices at H3 level 8.\n",
      "DEBUG:coordinates-to-h3:Writing H3 indices to new field named \"h3_08\"\n",
      "INFO:coordinates-to-h3:5,635 rows written to D:\\projects\\coordinates-to-h3\\data\\processed\\poi_h3_08.csv\n"
     ]
    },
    {
     "name": "stdout",
     "output_type": "stream",
     "text": [
      "CPU times: total: 46.9 ms\n",
      "Wall time: 46.1 ms\n"
     ]
    },
    {
     "data": {
      "text/plain": [
       "WindowsPath('D:/projects/coordinates-to-h3/data/processed/poi_h3_08.csv')"
      ]
     },
     "execution_count": 4,
     "metadata": {},
     "output_type": "execute_result"
    }
   ],
   "source": [
    "%%time\n",
    "add_h3_field(csv_raw, csv_out, h3_resolution=h3_res)"
   ]
  },
  {
   "cell_type": "code",
   "execution_count": null,
   "metadata": {},
   "outputs": [],
   "source": []
  }
 ],
 "metadata": {
  "kernelspec": {
   "display_name": "Python 3 (ipykernel)",
   "language": "python",
   "name": "python3"
  },
  "language_info": {
   "codemirror_mode": {
    "name": "ipython",
    "version": 3
   },
   "file_extension": ".py",
   "mimetype": "text/x-python",
   "name": "python",
   "nbconvert_exporter": "python",
   "pygments_lexer": "ipython3",
   "version": "3.13.5"
  }
 },
 "nbformat": 4,
 "nbformat_minor": 4
}
