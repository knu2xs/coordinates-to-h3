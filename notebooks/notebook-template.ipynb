{
 "cells": [
  {
   "cell_type": "code",
   "execution_count": 11,
   "metadata": {},
   "outputs": [],
   "source": [
    "import csv\n",
    "from pathlib import Path\n",
    "from typing import Optional\n",
    "from warnings import warn\n",
    "\n",
    "import h3"
   ]
  },
  {
   "cell_type": "code",
   "execution_count": 9,
   "metadata": {},
   "outputs": [
    {
     "data": {
      "text/plain": [
       "WindowsPath('D:/projects/coordinates-to-h3/data/processed/poi_h3_08.csv')"
      ]
     },
     "execution_count": 9,
     "metadata": {},
     "output_type": "execute_result"
    }
   ],
   "source": [
    "dir_prj = Path.cwd().parent\n",
    "\n",
    "dir_data = dir_prj/'data'\n",
    "\n",
    "dir_raw = dir_data/'raw'\n",
    "dir_out = dir_data/'processed'\n",
    "\n",
    "csv_raw = dir_raw / \"need_h3_level8_records.csv\"\n",
    "x_col = \"longitude\"\n",
    "y_col = \"latitude\"\n",
    "h3_res = 8\n",
    "\n",
    "csv_out = dir_out / f\"poi_h3_{h3_res:02d}.csv\"\n",
    "\n",
    "csv_out"
   ]
  },
  {
   "cell_type": "code",
   "execution_count": 19,
   "metadata": {},
   "outputs": [],
   "source": [
    "def add_h3_field(\n",
    "    input_file: Path, \n",
    "    output_file: Path, \n",
    "    h3_resolution: int = 8,\n",
    "    longitude_field: str = 'longitude', \n",
    "    latitude_field: str = 'latitude',\n",
    "    output_h3_field_name: Optional[str] = None\n",
    "):\n",
    "    \"\"\"\n",
    "    Read a CSV file, calculate an H3 index from the coordinate columns and saves result to a new file.\n",
    "\n",
    "    Args:\n",
    "        input_file: path to the input CSV file\n",
    "        output_file: path to the output CSV file\n",
    "        h3_resolution: H3 resolution to use for calculating the H3 index\n",
    "        longitude_field: field in input CSV with longitude (X) coordinate values\n",
    "        latitude_field: field in input CSV with latitude (Y) coordinate values\n",
    "        output_h3_field_name: field to add to output CSV with H3 indices\n",
    "    \"\"\"\n",
    "    # if an output field name is not explicitly provided, create one\n",
    "    if output_h3_field_name is None:\n",
    "        output_h3_field_name = f\"h3_{h3_resolution:02d}\"\n",
    "    \n",
    "    # open the source CSV and use a reader to load values as dictionaries\n",
    "    with open(input_file, mode='r', newline='', encoding='utf-8') as infile:\n",
    "        reader = csv.DictReader(infile)\n",
    "\n",
    "        # create a list of output field names with the new H3 field appended to the end\n",
    "        fieldnames = reader.fieldnames + [output_h3_field_name]\n",
    "\n",
    "        # open the file to output to using a dictionary writer\n",
    "        with open(output_file, mode='w', newline='', encoding='utf-8') as outfile:\n",
    "            writer = csv.DictWriter(outfile, fieldnames=fieldnames)\n",
    "\n",
    "            # write the field names in the first row, the header\n",
    "            writer.writeheader()\n",
    "\n",
    "            # iterate rows in the reader\n",
    "            for idx, row in enumerate(reader):\n",
    "                \n",
    "                # retrive the coordinate values\n",
    "                lon_val = row.get(longitude_field)\n",
    "                lat_val = row.get(latitude_field)\n",
    "\n",
    "                # check to ensure both values are not none\n",
    "                if lon_val is None or lat_val is None:\n",
    "                    warn(f'Cannot get H3 index for row {idx:,} because two coordinates were not retrieved.')\n",
    "                    h3_idx = None\n",
    "\n",
    "                else:\n",
    "                    h3_idx = h3.latlng_to_cell(float(lat_val), float(lon_val), h3_resolution)\n",
    "                \n",
    "                # set the H3 index in the row dictionary\n",
    "                row[output_h3_field_name] = h3_idx\n",
    "\n",
    "                # write the row to the output table\n",
    "                writer.writerow(row)\n",
    "\n",
    "    return output_file"
   ]
  },
  {
   "cell_type": "code",
   "execution_count": 22,
   "metadata": {},
   "outputs": [
    {
     "name": "stdout",
     "output_type": "stream",
     "text": [
      "CPU times: total: 46.9 ms\n",
      "Wall time: 54 ms\n"
     ]
    },
    {
     "data": {
      "text/plain": [
       "WindowsPath('D:/projects/coordinates-to-h3/data/processed/poi_h3_08.csv')"
      ]
     },
     "execution_count": 22,
     "metadata": {},
     "output_type": "execute_result"
    }
   ],
   "source": [
    "%%time\n",
    "add_h3_field(csv_raw, csv_out)"
   ]
  },
  {
   "cell_type": "code",
   "execution_count": null,
   "metadata": {},
   "outputs": [],
   "source": []
  }
 ],
 "metadata": {
  "kernelspec": {
   "display_name": "Python 3 (ipykernel)",
   "language": "python",
   "name": "python3"
  },
  "language_info": {
   "codemirror_mode": {
    "name": "ipython",
    "version": 3
   },
   "file_extension": ".py",
   "mimetype": "text/x-python",
   "name": "python",
   "nbconvert_exporter": "python",
   "pygments_lexer": "ipython3",
   "version": "3.11.11"
  }
 },
 "nbformat": 4,
 "nbformat_minor": 4
}
